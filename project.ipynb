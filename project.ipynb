{
 "cells": [
  {
   "cell_type": "code",
   "execution_count": 19,
   "id": "492b8be4",
   "metadata": {},
   "outputs": [
    {
     "name": "stdout",
     "output_type": "stream",
     "text": [
      "Provide URL of only products like, Phones, Laptops etc, which have 24 products displayed in a page! Below are certain such URLs\n",
      "Enter Url: https://www.flipkart.com/search?q=iphone&otracker=search&otracker1=search&marketplace=FLIPKART&as-show=on&as=off\n"
     ]
    }
   ],
   "source": [
    "from bs4 import BeautifulSoup\n",
    "import re, requests\n",
    "import pandas as pd\n",
    "\n",
    "item_names = []\n",
    "item_prices = []\n",
    "item_images = []\n",
    "\n",
    "print('Provide URL of only products like, Phones, Laptops etc, which have 24 products displayed in a page! Below are certain such URLs')\n",
    "\n",
    "def get_name():\n",
    "    for i in soup.find_all('div', class_='_4rR01T'):\n",
    "        name = re.sub('^<div.*\">|</div>', '', str(i))\n",
    "        item_names.append(name)\n",
    "    #print(len(item_names))\n",
    "\n",
    "def get_price():\n",
    "    for i in soup.find_all('div', class_='_30jeq3 _1_WHN1'):\n",
    "        price = re.sub('^<div.*\">|</div>', '', str(i))\n",
    "        item_prices.append(price)\n",
    "    #print(item_prices)\n",
    "\n",
    "def get_image():\n",
    "    for i in soup.find_all('img', class_='_396cs4 _3exPp9'):\n",
    "        img = re.sub('^<img.*src=\"|\"/>', '', str(i))\n",
    "        item_images.append(img)\n",
    "#     print(len(item_images))\n",
    "\n",
    "# URL = \"https://www.flipkart.com/search?q=mobile+phone+android&sid=tyy%2C4io&as=on&as-show=on&otracker=AS_QueryStore_OrganicAutoSuggest_1_12_na_na_ps&otracker1=AS_QueryStore_OrganicAutoSuggest_1_12_na_na_ps&as-pos=1&as-type=RECENT&suggestionId=mobile+phone+android%7CMobiles&requestId=b5c365fc-51e9-40fb-b129-7758b44723cc&as-searchtext=mobile%20phone\"\n",
    "# URL = \"https://www.flipkart.com/search?q=laptop&otracker=search&otracker1=search&marketplace=FLIPKART&as-show=on&as=off\"\n",
    "URL = input(\"Enter Url: \")\n",
    "response = requests.get(URL)\n",
    "#print(response.status_code)\n",
    "soup = BeautifulSoup(response.content, 'lxml')\n",
    "#print(soup)\n",
    "\n",
    "get_name()\n",
    "get_price()\n",
    "get_image()\n",
    "\n",
    "df = pd.DataFrame({\"Product Name\" : item_names,\n",
    "                   \"Product Price\" : item_prices,\n",
    "                   \"Product Image\" : item_images})\n",
    "\n",
    "# display the result table in Jupyter notebook\n",
    "# df.head()\n",
    "\n",
    "# save result as excel file\n",
    "df.to_excel('flipkart_products.xlsx')"
   ]
  },
  {
   "cell_type": "code",
   "execution_count": null,
   "id": "aa06ef69",
   "metadata": {},
   "outputs": [],
   "source": []
  }
 ],
 "metadata": {
  "kernelspec": {
   "display_name": "Python 3",
   "language": "python",
   "name": "python3"
  },
  "language_info": {
   "codemirror_mode": {
    "name": "ipython",
    "version": 3
   },
   "file_extension": ".py",
   "mimetype": "text/x-python",
   "name": "python",
   "nbconvert_exporter": "python",
   "pygments_lexer": "ipython3",
   "version": "3.8.8"
  }
 },
 "nbformat": 4,
 "nbformat_minor": 5
}
